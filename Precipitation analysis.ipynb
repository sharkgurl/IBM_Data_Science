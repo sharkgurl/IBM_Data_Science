{
    "cells": [
        {
            "cell_type": "markdown",
            "metadata": {},
            "source": "This is a precipitation data downloaded from \nhttps://dataplatform.cloud.ibm.com/exchange/public/entry/view/5a7051906b8fe9cc1ba126b53ed945ee"
        },
        {
            "cell_type": "markdown",
            "metadata": {},
            "source": "This is a precipitation data file \nimport os, types\nimport pandas as pd\nfrom botocore.client import Config\nimport ibm_boto3\n\ndef __iter__(self): return 0\n\n# @hidden_cell\n# The following code accesses a file in your IBM Cloud Object Storage. It includes your credentials.\n# You might want to remove those credentials before you share the notebook.\n\nif os.environ.get('RUNTIME_ENV_LOCATION_TYPE') == 'external':\n    endpoint_277ddfa907864a158b15166921cbb700 = 'https://s3.us.cloud-object-storage.appdomain.cloud'\nelse:\n    endpoint_277ddfa907864a158b15166921cbb700 = 'https://s3.private.us.cloud-object-storage.appdomain.cloud'\n\nclient_277ddfa907864a158b15166921cbb700 = ibm_boto3.client(service_name='s3',\n    ibm_api_key_id='0TIHRAz-zA2uWWqnV_BActxpNmx_b2iFSVHyodD_Ae5r',\n    ibm_auth_endpoint=\"https://iam.cloud.ibm.com/oidc/token\",\n    config=Config(signature_version='oauth'),\n    endpoint_url=endpoint_277ddfa907864a158b15166921cbb700)\n\nbody = client_277ddfa907864a158b15166921cbb700.get_object(Bucket='courserawatsonstudiodemo-donotdelete-pr-frs5tatrjkuqmw',Key='precipitation.csv')['Body']\n# add missing __iter__ method, so pandas accepts body as file-like object\nif not hasattr(body, \"__iter__\"): body.__iter__ = types.MethodType( __iter__, body )\n\ndf_data_1 = pd.read_csv(body)\ndf_data_1.head()\ndownloaded from \nhttps://dataplatform.cloud.ibm.com/exchange/public/entry/view/5a7051906b8fe9cc1ba126b53ed945ee"
        },
        {
            "cell_type": "code",
            "execution_count": null,
            "metadata": {
                "collapsed": true
            },
            "outputs": [],
            "source": ""
        }
    ],
    "metadata": {
        "kernelspec": {
            "display_name": "Python 3.8",
            "language": "python",
            "name": "python3"
        },
        "language_info": {
            "codemirror_mode": {
                "name": "ipython",
                "version": 3
            },
            "file_extension": ".py",
            "mimetype": "text/x-python",
            "name": "python",
            "nbconvert_exporter": "python",
            "pygments_lexer": "ipython3",
            "version": "3.8.10"
        }
    },
    "nbformat": 4,
    "nbformat_minor": 1
}